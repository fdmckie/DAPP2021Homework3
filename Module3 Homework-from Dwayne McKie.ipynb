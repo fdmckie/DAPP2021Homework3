{
 "cells": [
  {
   "cell_type": "markdown",
   "metadata": {},
   "source": [
    "### Exercise 1\n",
    "Ask a user for 5 names and place each one in to a list called <i>names</i>. Then, print <i>names</i>."
   ]
  },
  {
   "cell_type": "code",
   "execution_count": 2,
   "metadata": {},
   "outputs": [
    {
     "name": "stdout",
     "output_type": "stream",
     "text": [
      "Please enter 5 names\n",
      " \n",
      "Enter the 1st name:\n",
      ">Sherma\n",
      " \n",
      "Enter the 2nd name:\n",
      ">Catherine\n",
      " \n",
      "Enter the 3rd name:\n",
      ">Evelin\n",
      " \n",
      "Enter the 4th name:\n",
      ">Barbora\n",
      " \n",
      "Enter the 5th name:\n",
      ">Suji\n",
      " \n",
      " \n",
      "The 5 names placed in the list are:\n",
      "Sherma\n",
      "Catherine\n",
      "Evelin\n",
      "Barbora\n",
      "Suji\n"
     ]
    }
   ],
   "source": [
    "#create a list that will be used to store names entered by a user\n",
    "name_list = []\n",
    "\n",
    "\n",
    "prompt = \">\"\n",
    "\n",
    "#have the user enter 5 names via keyboard\n",
    "print(\"Please enter 5 names\")\n",
    "print(\" \")\n",
    "\n",
    "#prompt the user to enter the 1st name\n",
    "print(\"Enter the 1st name:\")\n",
    "\n",
    "#place the 1st name into the list\n",
    "name1 = input(prompt)\n",
    "name_list.append(name1)\n",
    "\n",
    "\n",
    "#prompt the user to enter the 2nd name\n",
    "print(\" \")\n",
    "print(\"Enter the 2nd name:\")\n",
    "\n",
    "#place the 2nd name into the list\n",
    "name2 = input(prompt)\n",
    "name_list.append(name2)\n",
    "\n",
    "#prompt the user to enter the 3rd name\n",
    "print(\" \")\n",
    "print(\"Enter the 3rd name:\")\n",
    "\n",
    "#place the 3rd name into the list\n",
    "name3 = input(prompt)\n",
    "name_list.append(name3)\n",
    "\n",
    "#prompt the user to enter the 4th name\n",
    "print(\" \")\n",
    "print(\"Enter the 4th name:\")\n",
    "\n",
    "#place the 4th name into the list\n",
    "name4 = input(prompt)\n",
    "name_list.append(name4)\n",
    "\n",
    "#prompt the user to enter the 5th name\n",
    "print(\" \")\n",
    "print(\"Enter the 5th name:\")\n",
    "\n",
    "#place the 5th name into the list\n",
    "name5 = input(prompt)\n",
    "name_list.append(name5)\n",
    "\n",
    "\n",
    "#print the names that are stored in the list\n",
    "print(\" \")\n",
    "print(\" \")\n",
    "print(\"The 5 names placed in the list are:\")\n",
    "print(name_list[0])\n",
    "print(name_list[1])\n",
    "print(name_list[2])\n",
    "print(name_list[3])\n",
    "print(name_list[4])\n",
    "\n",
    "\n",
    "\n"
   ]
  },
  {
   "cell_type": "markdown",
   "metadata": {},
   "source": [
    "### Exercise 2\n",
    "Print out a randomly selected name in the names list."
   ]
  },
  {
   "cell_type": "code",
   "execution_count": 4,
   "metadata": {},
   "outputs": [
    {
     "name": "stdout",
     "output_type": "stream",
     "text": [
      "Suji\n"
     ]
    }
   ],
   "source": [
    "#import the Python library that has the random and randint functions\n",
    "import random as rand\n",
    "\n",
    "#from the list called \"name_list\" (created in the cell above), determine the highest index number via the length of the list\n",
    "name_list_length_max_index = ((len(name_list) - 1))\n",
    "#print(name_list_length_max_index)\n",
    "\n",
    "#using the randint function, randomly print a name from the list\n",
    "print(name_list[rand.randint(0, (name_list_length_max_index))])"
   ]
  },
  {
   "cell_type": "markdown",
   "metadata": {},
   "source": [
    "### Exercise 3\n",
    "Ask for a color and store that answer. \n",
    "If the answer is grey then print out you found Victor's favorite color.\n",
    "Otherwise print out the color is not Victor's favorite color."
   ]
  },
  {
   "cell_type": "code",
   "execution_count": 6,
   "metadata": {},
   "outputs": [
    {
     "name": "stdout",
     "output_type": "stream",
     "text": [
      "Enter a color:\n",
      ">grey\n",
      "You found Victor's favorite color!!!\n"
     ]
    }
   ],
   "source": [
    "#place the name of Victor's favorite color, \"grey\", in a constant variable as a string\n",
    "VICTOR_COLOR = \"GREY\"\n",
    "\n",
    "\n",
    "prompt = \">\"\n",
    "\n",
    "#have the user enter a color\n",
    "print(\"Enter a color:\")\n",
    "color_name = input(prompt)\n",
    "\n",
    "#determine if the user entered the name of Victor's favorite color (or not)\n",
    "if color_name.lower() == VICTOR_COLOR.lower() :\n",
    "    print(\"You found Victor's favorite color!!!\")\n",
    "else :\n",
    "    #print(\"You are too young to vote.\")\n",
    "    print(f\"{color_name} is not Victor's favorite color\") \n",
    "\n"
   ]
  },
  {
   "cell_type": "markdown",
   "metadata": {},
   "source": [
    "### Exercise 4\n",
    "Ask for an exam score and store that number. If the number is greater than 100, then print out 'You cannot have an exam score higher than 100'. If the number doesn't exceeed 100 but is greater than or equal to 75, then print out 'You did great on your exam!'. Otherwise if they scored lower than 75, then print out 'You need to study harder'."
   ]
  },
  {
   "cell_type": "code",
   "execution_count": 8,
   "metadata": {},
   "outputs": [
    {
     "name": "stdout",
     "output_type": "stream",
     "text": [
      "Enter an exam score:\n",
      ">80\n",
      "You did great on your exam!\n"
     ]
    }
   ],
   "source": [
    "\n",
    "\n",
    "prompt = \">\"\n",
    "\n",
    "#have the user enter an exam score\n",
    "print(\"Enter an exam score:\")\n",
    "exam_score = int(input(prompt))\n",
    " \n",
    "#c\n",
    "#if a valid score, print a message to show that the exam score is a good score (or not)\n",
    "if exam_score > 100 :\n",
    "    print(\"You can not have an exam score higher than 100...\")\n",
    "elif exam_score >=75 :\n",
    "    print(\"You did great on your exam!\")\n",
    "else :\n",
    "    print(\"You need to study harder...\")\n",
    "\n",
    "\n"
   ]
  },
  {
   "cell_type": "markdown",
   "metadata": {},
   "source": [
    "### Exercise 5\n",
    "Write a function to convert a test score to a grade where  \n",
    " - 90 - 100: A\n",
    " - 80 - 89:  B\n",
    " - 70 - 79:  C\n",
    " - 60 - 69:  D\n",
    " - < 60   :  F\n",
    " \n",
    "If a score is not between 0 and 100 then print out an error message. In the program, ask the user for a score and then call your function. "
   ]
  },
  {
   "cell_type": "code",
   "execution_count": 10,
   "metadata": {},
   "outputs": [
    {
     "name": "stdout",
     "output_type": "stream",
     "text": [
      "Enter an exam score:\n",
      ">81\n",
      "The exam score is a 'B'...\n"
     ]
    }
   ],
   "source": [
    "#create a function that will inform the user if the exam score is valid (or not)\n",
    "#if valid, compute the grade from the exam score & display the grade\n",
    "def exam_grade_function(exam_score) :\n",
    "    if exam_score > 100 or exam_score < 0 :\n",
    "        print(\"You entered an invalid exam score...\")\n",
    "    elif exam_score >= 90 and exam_score <= 100 :\n",
    "        print(\"The exam score is an 'A'!!!\")\n",
    "    elif exam_score >=80 and exam_score <=90 :\n",
    "        print(\"The exam score is a 'B'...\")\n",
    "    elif exam_score >=70 and exam_score <=79 :\n",
    "        print(\"The exam score is a 'C'...\")\n",
    "    elif exam_score >=60 and exam_score <=69 :\n",
    "        print(\"The exam score is a 'D'...\")\n",
    "    else :\n",
    "        print(\"The exam score is a 'F'!!! You need to study harder...\")\n",
    "    return\n",
    "\n",
    "\n",
    "prompt = \">\"\n",
    "\n",
    "\n",
    "#have the used enter an exam score\n",
    "print(\"Enter an exam score:\")\n",
    "exam_score = int(input(prompt))\n",
    "\n",
    "#call the function that will compute and display the grade of the exam score (assuming that the score is valid)\n",
    "exam_grade_function(exam_score)\n",
    "\n",
    "\n",
    "\n",
    "\n",
    "\n",
    "\n",
    "\n",
    "\n"
   ]
  },
  {
   "cell_type": "code",
   "execution_count": null,
   "metadata": {},
   "outputs": [],
   "source": []
  }
 ],
 "metadata": {
  "kernelspec": {
   "display_name": "Python 3",
   "language": "python",
   "name": "python3"
  },
  "language_info": {
   "codemirror_mode": {
    "name": "ipython",
    "version": 3
   },
   "file_extension": ".py",
   "mimetype": "text/x-python",
   "name": "python",
   "nbconvert_exporter": "python",
   "pygments_lexer": "ipython3",
   "version": "3.8.8"
  }
 },
 "nbformat": 4,
 "nbformat_minor": 4
}
